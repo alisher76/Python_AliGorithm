{
 "cells": [
  {
   "cell_type": "markdown",
   "metadata": {},
   "source": [
    "# Test Jupyter Notebook \n",
    "### Problem\n",
    "\n",
    "Add two numbers "
   ]
  },
  {
   "cell_type": "code",
   "execution_count": 2,
   "metadata": {
    "collapsed": true
   },
   "outputs": [],
   "source": [
    "def sumTwoNumbers(a,b):\n",
    "    return a + b"
   ]
  },
  {
   "cell_type": "code",
   "execution_count": 4,
   "metadata": {},
   "outputs": [
    {
     "name": "stdout",
     "output_type": "stream",
     "text": [
      "test 01 passed\n",
      "test 02 passed\n"
     ]
    }
   ],
   "source": [
    "from nose.tools import assert_equal \n",
    "\n",
    "class SolutionTest(object):\n",
    "    \n",
    "    def test01(self,solution):\n",
    "        assert_equal(solution(4,4),8)\n",
    "        print(\"test 01 passed\")\n",
    "\n",
    "    def test02(self,solution):\n",
    "        assert_equal(solution(5,6),11)\n",
    "        print(\"test 02 passed\")\n",
    "        \n",
    "# Running the tests\n",
    "t1 = SolutionTest()\n",
    "t1.test01(sumTwoNumbers)\n",
    "\n",
    "t2 = SolutionTest()\n",
    "t1.test02(sumTwoNumbers)"
   ]
  },
  {
   "cell_type": "code",
   "execution_count": null,
   "metadata": {
    "collapsed": true
   },
   "outputs": [],
   "source": []
  }
 ],
 "metadata": {
  "kernelspec": {
   "display_name": "Python 3",
   "language": "python",
   "name": "python3"
  },
  "language_info": {
   "codemirror_mode": {
    "name": "ipython",
    "version": 3
   },
   "file_extension": ".py",
   "mimetype": "text/x-python",
   "name": "python",
   "nbconvert_exporter": "python",
   "pygments_lexer": "ipython3",
   "version": "3.6.3"
  }
 },
 "nbformat": 4,
 "nbformat_minor": 2
}
