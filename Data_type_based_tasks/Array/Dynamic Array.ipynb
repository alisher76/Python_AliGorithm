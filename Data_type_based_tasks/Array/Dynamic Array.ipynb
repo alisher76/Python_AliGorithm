{
 "cells": [
  {
   "cell_type": "code",
   "execution_count": null,
   "metadata": {},
   "outputs": [
    {
     "name": "stdout",
     "output_type": "stream",
     "text": [
      "Length:   0; Size in Bytes:   64 \n",
      "Length:   1; Size in Bytes:   96 \n",
      "Length:   2; Size in Bytes:   96 \n",
      "Length:   3; Size in Bytes:   96 \n",
      "Length:   4; Size in Bytes:   96 \n",
      "Length:   5; Size in Bytes:  128 \n",
      "Length:   6; Size in Bytes:  128 \n",
      "Length:   7; Size in Bytes:  128 \n",
      "Length:   8; Size in Bytes:  128 \n",
      "Length:   9; Size in Bytes:  192 \n",
      "Length:  10; Size in Bytes:  192 \n",
      "Length:  11; Size in Bytes:  192 \n",
      "Length:  12; Size in Bytes:  192 \n",
      "Length:  13; Size in Bytes:  192 \n",
      "Length:  14; Size in Bytes:  192 \n",
      "Length:  15; Size in Bytes:  192 \n",
      "Length:  16; Size in Bytes:  192 \n",
      "Length:  17; Size in Bytes:  264 \n",
      "Length:  18; Size in Bytes:  264 \n",
      "Length:  19; Size in Bytes:  264 \n"
     ]
    }
   ],
   "source": [
    "import sys\n",
    "\n",
    "# Set n \n",
    "n = 20\n",
    "\n",
    "data = []\n",
    "\n",
    "for i in range(n):\n",
    "    # number of elements \n",
    "    a = len(data)\n",
    "    \n",
    "    # Actual size in Bytes\n",
    "    b = sys.getsizeof(data)\n",
    "    \n",
    "    print('Length: {0:3d}; Size in Bytes: {1:4d} '.format(a,b))\n",
    "    \n",
    "    # increase length by one \n",
    "    data.append(n)\n",
    "\n"
   ]
  },
  {
   "cell_type": "code",
   "execution_count": null,
   "metadata": {
    "collapsed": true
   },
   "outputs": [],
   "source": []
  }
 ],
 "metadata": {
  "kernelspec": {
   "display_name": "Python 3",
   "language": "python",
   "name": "python3"
  },
  "language_info": {
   "codemirror_mode": {
    "name": "ipython",
    "version": 3
   },
   "file_extension": ".py",
   "mimetype": "text/x-python",
   "name": "python",
   "nbconvert_exporter": "python",
   "pygments_lexer": "ipython3",
   "version": "3.6.3"
  }
 },
 "nbformat": 4,
 "nbformat_minor": 2
}
